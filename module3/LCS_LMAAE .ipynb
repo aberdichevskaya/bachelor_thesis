{
 "cells": [
  {
   "cell_type": "code",
   "execution_count": 60,
   "id": "c080902a",
   "metadata": {},
   "outputs": [],
   "source": [
    "import re\n",
    "from navec import Navec\n",
    "from scipy.spatial import distance\n",
    "from sklearn.cluster import DBSCAN\n",
    "from sklearn.preprocessing import StandardScaler\n",
    "import sys"
   ]
  },
  {
   "cell_type": "code",
   "execution_count": 8,
   "id": "3ca19449",
   "metadata": {},
   "outputs": [],
   "source": [
    "def create_array_from_file(file):\n",
    "    array = []\n",
    "    for l in file:\n",
    "        k = re.split('\\s+', l)\n",
    "        array.append(k[0])\n",
    "    return array"
   ]
  },
  {
   "cell_type": "code",
   "execution_count": 9,
   "id": "757d5458",
   "metadata": {},
   "outputs": [],
   "source": [
    "#получение всех возможных разбиений аббревиатуры на блоки\n",
    "def segmentation(abbreviation, n=10, max_len=6):\n",
    "    n = min(n, len(abbreviation))\n",
    "    parts_set = []\n",
    "    if n==1 or len(abbreviation)==1:\n",
    "        return [[abbreviation]]\n",
    "    for i in range(1, min(max_len+1, len(abbreviation))):\n",
    "        pref = [abbreviation[0:i]]\n",
    "        parts = segmentation(abbreviation[i:len(abbreviation)], n-1)\n",
    "        if pref!=['']:\n",
    "            for j in range(len(parts)):\n",
    "                parts[j] = pref+parts[j]\n",
    "        parts_set += parts\n",
    "    if len(abbreviation)<=max_len:\n",
    "        parts_set += [[abbreviation]]\n",
    "    return parts_set "
   ]
  },
  {
   "cell_type": "code",
   "execution_count": 11,
   "id": "d1452907",
   "metadata": {},
   "outputs": [],
   "source": [
    "#получение всех значимых разбиений аббревиатуры\n",
    "def get_reasonable_segments(abbreviation):\n",
    "    parts_set = segmentation(abbreviation)\n",
    "    rus_dict = open(\"../dictionaries/dictionary.txt\", 'r', encoding='utf-8')\n",
    "    rus_dict_array = create_array_from_file(rus_dict)\n",
    "    list_of_extended_words_lists = []\n",
    "    for partition in parts_set:\n",
    "        #print(partition)\n",
    "        partition_is_reasonable = True\n",
    "        extended_words_list = []\n",
    "        for part in partition:\n",
    "            l = 0\n",
    "            r = len(rus_dict_array)\n",
    "            #ищём в словаре место для данного блока\n",
    "            while(l < r-1):\n",
    "                m = (l+r)//2\n",
    "                if rus_dict_array[m] <= part:\n",
    "                    l = m\n",
    "                else:\n",
    "                    r = m\n",
    "            #print('hi')\n",
    "            if rus_dict_array[l]==part:\n",
    "                start = l\n",
    "            else:\n",
    "                start = l+1\n",
    "            #находим все слова, являющиеся расширением данного блока\n",
    "            words = []\n",
    "            while start<len(rus_dict_array):\n",
    "                word = rus_dict_array[start]\n",
    "                if word[0:len(part)]==part:\n",
    "                    words.append(word)\n",
    "                    start += 1\n",
    "                else:\n",
    "                    break\n",
    "            if len(words)==0:\n",
    "                partition_is_reasonable = False\n",
    "                break\n",
    "            else:\n",
    "                extended_words_list.append(words)\n",
    "        if partition_is_reasonable:\n",
    "            #print(extended_words_list)\n",
    "            list_of_extended_words_lists.append(extended_words_list)\n",
    "    return list_of_extended_words_lists         "
   ]
  },
  {
   "cell_type": "code",
   "execution_count": 12,
   "id": "b04a6b91",
   "metadata": {},
   "outputs": [],
   "source": [
    "def add_vectors(v, w):\n",
    "    res = [(vi + wi)/2 for vi, wi in zip(v, w)]\n",
    "    return res"
   ]
  },
  {
   "cell_type": "code",
   "execution_count": 13,
   "id": "33f2d6a6",
   "metadata": {},
   "outputs": [],
   "source": [
    "def recursive_checking(part, navec, threashold, idx=0, vec=[]):\n",
    "    eps = 1e-9\n",
    "    if idx==len(part):\n",
    "        return [[]]\n",
    "    suitable = []\n",
    "    for i in range(len(part[idx])):\n",
    "        try:\n",
    "            word_vec = navec[part[idx][i]]\n",
    "        except KeyError:\n",
    "            continue\n",
    "        if vec!=[]:\n",
    "            dist = distance.cosine(vec, word_vec)\n",
    "            if dist+eps>threashold:\n",
    "                continue\n",
    "            new_vec = add_vectors(vec, word_vec)\n",
    "        else:\n",
    "            new_vec = word_vec\n",
    "        word = [part[idx][i]]    \n",
    "        phrases = recursive_checking(part, navec, threashold, idx+1, new_vec)\n",
    "        for j in range(len(phrases)):\n",
    "            phrases[j] = word+phrases[j]\n",
    "        suitable += phrases\n",
    "    return suitable"
   ]
  },
  {
   "cell_type": "code",
   "execution_count": 14,
   "id": "c17de828",
   "metadata": {},
   "outputs": [],
   "source": [
    "def segments_union(partition, threashold):\n",
    "    path = '../dataset/fit_language_models/navec_hudlit_v1_12B_500K_300d_100q.tar'\n",
    "    navec = Navec.load(path)\n",
    "    phrases = []\n",
    "    for part in partition:\n",
    "        phrases += recursive_checking(part, navec, threashold)\n",
    "    return phrases"
   ]
  },
  {
   "cell_type": "code",
   "execution_count": 49,
   "id": "adc238ab",
   "metadata": {},
   "outputs": [],
   "source": [
    "def get_num_for_friend(phrases, navec):\n",
    "    phrase_num = []\n",
    "    for phrase in phrases:\n",
    "        vec = navec[phrase[0]]\n",
    "        for i in range(1, len(phrase)-1):\n",
    "            vec = add_vectors(vec, navec[phrase[i]])\n",
    "        last_word = phrase[len(phrase)-1]\n",
    "        num = distance.cosine(vec, navec[last_word])\n",
    "        phrase_num.append((phrase, num))\n",
    "    return phrase_num"
   ]
  },
  {
   "cell_type": "code",
   "execution_count": 56,
   "id": "9aa4905f",
   "metadata": {},
   "outputs": [],
   "source": [
    "def clasterization(phrases):\n",
    "    path = '../dataset/fit_language_models/navec_hudlit_v1_12B_500K_300d_100q.tar'\n",
    "    navec = Navec.load(path)\n",
    "    phrase_num = get_num_for_friend(phrases, navec)\n",
    "    X = []\n",
    "    for phrase in phrases:\n",
    "        vec = []\n",
    "        for word in phrase:\n",
    "            if vec==[]:\n",
    "                vec = navec[word]\n",
    "            else:\n",
    "                vec = add_vectors(vec, navec[word])\n",
    "        X.append(vec)\n",
    "    X = StandardScaler().fit_transform(X)\n",
    "    db = DBSCAN(eps=16, min_samples=1).fit(X)\n",
    "    labels = db.labels_\n",
    "    n_clusters = len(set(labels)) - (1 if -1 in labels else 0)\n",
    "    clastered_phrases = []\n",
    "    best_phares_for_label = {}\n",
    "    for i in range(len(phrases)):\n",
    "        if labels[i]==-1:\n",
    "            clastered_phrases.append(phrases[i])\n",
    "            continue\n",
    "        if not labels[i] in best_phares_for_label:\n",
    "            best_phares_for_label[labels[i]]=phrases[i]\n",
    "        else:\n",
    "            existed = best_phares_for_label[labels[i]]\n",
    "            best_phares_for_label[labels[i]]=min(phrases[i], existed)\n",
    "    for phrase in best_phares_for_label.values():\n",
    "        clastered_phrases.append(phrase)\n",
    "    return clastered_phrases"
   ]
  },
  {
   "cell_type": "code",
   "execution_count": null,
   "id": "3b0a0933",
   "metadata": {},
   "outputs": [],
   "source": []
  },
  {
   "cell_type": "code",
   "execution_count": null,
   "id": "d81a8364",
   "metadata": {},
   "outputs": [],
   "source": []
  },
  {
   "cell_type": "code",
   "execution_count": null,
   "id": "885da88e",
   "metadata": {},
   "outputs": [],
   "source": [
    "def estimation():\n",
    "    "
   ]
  },
  {
   "cell_type": "code",
   "execution_count": null,
   "id": "96af34dc",
   "metadata": {},
   "outputs": [],
   "source": []
  },
  {
   "cell_type": "code",
   "execution_count": 10,
   "id": "fe4ec597",
   "metadata": {},
   "outputs": [],
   "source": [
    "# parts_set = segmentation('даздрасперма')\n",
    "# rationality_filtration(parts_set)"
   ]
  },
  {
   "cell_type": "code",
   "execution_count": 65,
   "id": "bbce4325",
   "metadata": {},
   "outputs": [],
   "source": [
    "k = get_reasonable_segments('тд')"
   ]
  },
  {
   "cell_type": "code",
   "execution_count": 66,
   "id": "38c51071",
   "metadata": {},
   "outputs": [
    {
     "name": "stderr",
     "output_type": "stream",
     "text": [
      "C:\\Users\\anna_\\anaconda3\\envs\\m\\lib\\site-packages\\ipykernel_launcher.py:11: DeprecationWarning: elementwise comparison failed; this will raise an error in the future.\n",
      "  # This is added back by InteractiveShellApp.init_path()\n"
     ]
    }
   ],
   "source": [
    "o = segments_union(k, 0.7)"
   ]
  },
  {
   "cell_type": "code",
   "execution_count": null,
   "id": "e2aaf5f7",
   "metadata": {},
   "outputs": [],
   "source": []
  },
  {
   "cell_type": "code",
   "execution_count": null,
   "id": "430df079",
   "metadata": {},
   "outputs": [],
   "source": [
    "['табак', 'тверь'] ['кот', 'трубка'] "
   ]
  },
  {
   "cell_type": "code",
   "execution_count": 59,
   "id": "f7429bae",
   "metadata": {},
   "outputs": [],
   "source": []
  },
  {
   "cell_type": "code",
   "execution_count": 61,
   "id": "cea95b7f",
   "metadata": {},
   "outputs": [],
   "source": [
    "p = get_reasonable_segments('йюй')"
   ]
  },
  {
   "cell_type": "code",
   "execution_count": 62,
   "id": "4d5912f9",
   "metadata": {},
   "outputs": [
    {
     "name": "stderr",
     "output_type": "stream",
     "text": [
      "C:\\Users\\anna_\\anaconda3\\envs\\m\\lib\\site-packages\\ipykernel_launcher.py:11: DeprecationWarning: elementwise comparison failed; this will raise an error in the future.\n",
      "  # This is added back by InteractiveShellApp.init_path()\n"
     ]
    }
   ],
   "source": [
    "l = segments_union(k, 0.7)"
   ]
  },
  {
   "cell_type": "code",
   "execution_count": 63,
   "id": "6b3df505",
   "metadata": {},
   "outputs": [
    {
     "data": {
      "text/plain": [
       "[['йодистый', 'юнкерский', 'йод'],\n",
       " ['йодистый', 'юнкерский', 'йодистый'],\n",
       " ['йоркшир', 'юго-восточный', 'йоркшир'],\n",
       " ['йоркшир', 'юго-восточный', 'йоркширский'],\n",
       " ['йоркшир', 'юго-западный', 'йоркшир'],\n",
       " ['йоркшир', 'юго-западный', 'йоркширский'],\n",
       " ['йоркшир', 'южный', 'йоркшир'],\n",
       " ['йоркшир', 'южный', 'йоркширский'],\n",
       " ['йоркширский', 'южноамериканский', 'йодистый'],\n",
       " ['йоркширский', 'южноамериканский', 'йоркшир'],\n",
       " ['йоркширский', 'южноамериканский', 'йоркширский'],\n",
       " ['йоркширский', 'южноафриканский', 'йоркшир'],\n",
       " ['йоркширский', 'южноафриканский', 'йоркширский'],\n",
       " ['йоркширский', 'южнорусский', 'йоркширский'],\n",
       " ['йоркширский', 'юморок', 'йоркширский']]"
      ]
     },
     "execution_count": 63,
     "metadata": {},
     "output_type": "execute_result"
    }
   ],
   "source": [
    "l"
   ]
  },
  {
   "cell_type": "code",
   "execution_count": 64,
   "id": "cf3b8543",
   "metadata": {},
   "outputs": [
    {
     "name": "stderr",
     "output_type": "stream",
     "text": [
      "C:\\Users\\anna_\\anaconda3\\envs\\m\\lib\\site-packages\\ipykernel_launcher.py:9: DeprecationWarning: elementwise comparison failed; this will raise an error in the future.\n",
      "  if __name__ == '__main__':\n"
     ]
    },
    {
     "data": {
      "text/plain": [
       "[['йодистый', 'юнкерский', 'йод'],\n",
       " ['йодистый', 'юнкерский', 'йодистый'],\n",
       " ['йоркшир', 'юго-восточный', 'йоркшир'],\n",
       " ['йоркширский', 'южноамериканский', 'йодистый']]"
      ]
     },
     "execution_count": 64,
     "metadata": {},
     "output_type": "execute_result"
    }
   ],
   "source": [
    "clasterization(l)"
   ]
  },
  {
   "cell_type": "code",
   "execution_count": null,
   "id": "55f74918",
   "metadata": {},
   "outputs": [],
   "source": []
  }
 ],
 "metadata": {
  "kernelspec": {
   "display_name": "Python 3",
   "language": "python",
   "name": "python3"
  },
  "language_info": {
   "codemirror_mode": {
    "name": "ipython",
    "version": 3
   },
   "file_extension": ".py",
   "mimetype": "text/x-python",
   "name": "python",
   "nbconvert_exporter": "python",
   "pygments_lexer": "ipython3",
   "version": "3.6.13"
  }
 },
 "nbformat": 4,
 "nbformat_minor": 5
}
