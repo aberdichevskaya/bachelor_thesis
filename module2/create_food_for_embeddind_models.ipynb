{
 "cells": [
  {
   "cell_type": "code",
   "execution_count": 1,
   "metadata": {},
   "outputs": [],
   "source": [
    "import pandas as pd\n",
    "import os\n",
    "import io\n",
    "import nltk\n",
    "from nltk.corpus import stopwords\n",
    "import pdfminer\n",
    "import re\n",
    "from pdfminer.converter import TextConverter\n",
    "from pdfminer.pdfinterp import PDFPageInterpreter\n",
    "from pdfminer.pdfinterp import PDFResourceManager\n",
    "from pdfminer.pdfpage import PDFPage\n",
    "import pymorphy2"
   ]
  },
  {
   "cell_type": "code",
   "execution_count": null,
   "metadata": {},
   "outputs": [],
   "source": []
  },
  {
   "cell_type": "code",
   "execution_count": 2,
   "metadata": {},
   "outputs": [],
   "source": [
    "def extract_text_from_pdf(pdf_path):\n",
    "    resource_manager = PDFResourceManager()\n",
    "    fake_file_handle = io.StringIO()\n",
    "    converter = TextConverter(resource_manager, fake_file_handle)\n",
    "    page_interpreter = PDFPageInterpreter(resource_manager, converter)\n",
    " \n",
    "    with open(pdf_path, 'rb') as fh:\n",
    "        for page in PDFPage.get_pages(fh, \n",
    "                                      caching=True,\n",
    "                                      check_extractable=True):\n",
    "            page_interpreter.process_page(page)\n",
    " \n",
    "        text = fake_file_handle.getvalue()\n",
    " \n",
    "    converter.close()\n",
    "    fake_file_handle.close()\n",
    " \n",
    "    if text:\n",
    "        return text\n",
    "    else:\n",
    "        return ''"
   ]
  },
  {
   "cell_type": "code",
   "execution_count": 3,
   "metadata": {},
   "outputs": [],
   "source": [
    "def create_array_from_file(file):\n",
    "    array = []\n",
    "    for l in file:\n",
    "        k = re.split('\\s+', l)\n",
    "        array.append(k[0])\n",
    "    return array"
   ]
  },
  {
   "cell_type": "code",
   "execution_count": 4,
   "metadata": {},
   "outputs": [],
   "source": [
    "def is_in_dictionary(norm, rus_dict_array):\n",
    "    l = 0\n",
    "    r = len(rus_dict_array)\n",
    "    while(l < r-1):\n",
    "        m = (l+r)//2\n",
    "        if rus_dict_array[m] <= norm:\n",
    "            l = m\n",
    "        else:\n",
    "            r = m\n",
    "    return rus_dict_array[l]==norm"
   ]
  },
  {
   "cell_type": "code",
   "execution_count": 5,
   "metadata": {},
   "outputs": [],
   "source": [
    "def filtration(words):\n",
    "    stop_simbols = ['{', '}', '[', ']', ',', ':', ';']\n",
    "    rus_dict = open(\"../../../dictionaries/dictionary.txt\", 'r', encoding='utf-8')\n",
    "    rus_dict_array = create_array_from_file(rus_dict)\n",
    "    filtered = []\n",
    "    morph = pymorphy2.MorphAnalyzer()\n",
    "    for w in words:\n",
    "        if (not w in stopwords.words(\"russian\") and len(w) <= 35 and\n",
    "           not w in stop_simbols):\n",
    "            p = morph.parse(w)[0]\n",
    "            norm = p.normal_form\n",
    "            filtered.append(norm)\n",
    "        elif w=='.':\n",
    "            filtered.append(w)\n",
    "    return filtered"
   ]
  },
  {
   "cell_type": "code",
   "execution_count": 6,
   "metadata": {},
   "outputs": [],
   "source": [
    "def text_to_file(text, file):\n",
    "    words = nltk.word_tokenize(text)\n",
    "    filtered = filtration(words)\n",
    "    for token in filtered:\n",
    "        try:\n",
    "            file.write(token)\n",
    "            file.write(\" \")\n",
    "        except:\n",
    "            continue\n",
    "    file.write(\"\\n\")"
   ]
  },
  {
   "cell_type": "code",
   "execution_count": 7,
   "metadata": {},
   "outputs": [],
   "source": [
    "os.chdir(\"../dataset/fit_language_models/pdf\")\n",
    "directory = os.getcwd()"
   ]
  },
  {
   "cell_type": "code",
   "execution_count": 8,
   "metadata": {},
   "outputs": [
    {
     "name": "stdout",
     "output_type": "stream",
     "text": [
      "C:\\Users\\anna_\\python_source\\вкр\\bachelor_thesis\\dataset\\fit_language_models\\pdf\n"
     ]
    }
   ],
   "source": [
    "print(directory)"
   ]
  },
  {
   "cell_type": "code",
   "execution_count": 9,
   "metadata": {},
   "outputs": [],
   "source": [
    "files = os.listdir(directory)\n",
    "files = list(filter(lambda x: x.endswith('.pdf'), files))"
   ]
  },
  {
   "cell_type": "code",
   "execution_count": 10,
   "metadata": {},
   "outputs": [
    {
     "name": "stdout",
     "output_type": "stream",
     "text": [
      "['1.pdf', '10149-32546-2-PB.pdf', '10296-32679-2-PB.pdf', '10333-32678-2-PB.pdf', '10357-32680-2-PB.pdf', '10364-32417-2-PB.pdf', '107_BNI.pdf', '11825-33574-2-PB.pdf', '12200-32418-2-PB.pdf', '12212-32416-2-PB.pdf', '12223-32450-2-PB.pdf', '12233-32547-3-PB.pdf', '12273-33580-2-PB.pdf', '12277-33576-2-PB.pdf', '12285-33570-2-PB.pdf', '12310-33578-2-PB.pdf', '12359-32781-2-PB.pdf', '12360-33572-2-PB.pdf', '12376-32681-2-PB.pdf', '12399-33573-2-PB.pdf', '12413-34474-2-PB.pdf', '12416-33571-2-PB.pdf', '12446-33579-2-PB.pdf', '12458-32677-2-PB.pdf', '2.pdf', '3.pdf', '4.pdf', '5.pdf', '6.pdf', '7.pdf', '8.pdf', '9.pdf', 'avidreaders.ru__diabet-mify-i-realnost.pdf', 'Endokrinologia_Potemkin_V_V_1986.pdf', 'Внутричерепная_гипертензия_Ошоров_А_В_,_Савин_И_А_,_Горячев_А_С.pdf', 'Патофизиология_Том_2_5_е_издание_Новицкий_В_В_,_Уразова_О_И_2020.pdf']\n"
     ]
    }
   ],
   "source": [
    "print(files)"
   ]
  },
  {
   "cell_type": "code",
   "execution_count": 11,
   "metadata": {},
   "outputs": [],
   "source": [
    "f = open('text_for_embedding.txt', 'w')\n",
    "\n",
    "for file_name in files:\n",
    "    text = extract_text_from_pdf(file_name)\n",
    "    text_to_file(text, f)\n",
    "\n",
    "f.close()"
   ]
  },
  {
   "cell_type": "code",
   "execution_count": null,
   "metadata": {},
   "outputs": [],
   "source": []
  }
 ],
 "metadata": {
  "kernelspec": {
   "display_name": "Python 3",
   "language": "python",
   "name": "python3"
  },
  "language_info": {
   "codemirror_mode": {
    "name": "ipython",
    "version": 3
   },
   "file_extension": ".py",
   "mimetype": "text/x-python",
   "name": "python",
   "nbconvert_exporter": "python",
   "pygments_lexer": "ipython3",
   "version": "3.6.13"
  }
 },
 "nbformat": 4,
 "nbformat_minor": 4
}
