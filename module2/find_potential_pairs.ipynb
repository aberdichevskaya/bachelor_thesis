{
 "cells": [
  {
   "cell_type": "code",
   "execution_count": 25,
   "id": "19a26001",
   "metadata": {},
   "outputs": [],
   "source": [
    "import nltk\n",
    "import pandas as pd\n",
    "import pymorphy2"
   ]
  },
  {
   "cell_type": "code",
   "execution_count": 53,
   "id": "ec480339",
   "metadata": {},
   "outputs": [],
   "source": [
    "def find_all_definitions(df, idx):\n",
    "    stop_simbols = ['(', ')', '[', ']', '{', '}', ':', ';', '?', '!']\n",
    "    abbreviation = df['token'][idx].lower()\n",
    "    abbr_len = len(abbreviation)\n",
    "    max_len = min(abbr_len+5, 2*abbr_len)\n",
    "    all_definitions = {}\n",
    "    begin = {}\n",
    "    end = {}\n",
    "    L = max(0, idx-10*max_len)\n",
    "    R = min(len(df), idx+10*max_len+1)\n",
    "    for i in range (L, R):\n",
    "        if i==idx:\n",
    "            continue\n",
    "        if abbreviation[0]!=(df['token'][i].lower())[0]:\n",
    "            continue\n",
    "        for k in range(i, min(i+max_len+1, len(df))):\n",
    "            definition = []\n",
    "            for j in range(i, k):\n",
    "                if j==idx or df['token'][j] in stop_simbols or df['is_abbreviation'][j]==1:\n",
    "                    break\n",
    "                definition.append(df['token'][j])\n",
    "            if len(definition)==0:\n",
    "                continue\n",
    "            lost_letters = 0\n",
    "            lost_simbols = 0\n",
    "            for ch in abbreviation:\n",
    "                for w in definition:\n",
    "                    if ch in w:\n",
    "                        break\n",
    "                else:\n",
    "                    if ch.isalpha():\n",
    "                        lost_letters += 1\n",
    "                    else:\n",
    "                        lost_simbols += 1\n",
    "            if (len(abbreviation)<=2 and lost_letters==0 or \n",
    "                len(abbreviation)>2 and lost_letters<=0 and\n",
    "                lost_simbols<=1):\n",
    "                distation = min(abs(i-idx), abs(j-idx))\n",
    "                d = ' '.join(definition)\n",
    "                try:\n",
    "                    if all_definitions[d]>distation:\n",
    "                        all_definitions[d] = distation\n",
    "                        begin[d] = i\n",
    "                        end[d] = k\n",
    "                except:\n",
    "                    all_definitions[d] = distation\n",
    "                    begin[d] = i\n",
    "                    end[d] = k\n",
    "    return all_definitions, begin, end"
   ]
  },
  {
   "cell_type": "code",
   "execution_count": 61,
   "id": "e0dc9a8e",
   "metadata": {},
   "outputs": [],
   "source": [
    "def find_abbreviation(df):\n",
    "    abbreviations = []\n",
    "    definitions = []\n",
    "    distance = []\n",
    "    begins = []\n",
    "    ends = []\n",
    "    abbreviation_place = []\n",
    "    for i in range(len(df)):\n",
    "        if(df['is_abbreviation'][i]==1):\n",
    "            definitions_of_this, begin, end = find_all_definitions(df, i)\n",
    "            for d in definitions_of_this.keys():\n",
    "                abbreviations.append(df['token'][i])\n",
    "                abbreviation_place.append(i)\n",
    "                definitions.append(d)\n",
    "                distance.append(definitions_of_this[d])\n",
    "                begins.append(begin[d])\n",
    "                ends.append(end[d])\n",
    "    new_df = pd.DataFrame({'abbreviation' : abbreviations, \n",
    "                           'definition' : definitions, 'distance' : distance,\n",
    "                            'begin' : begins, 'end' : ends, \n",
    "                            'abbreviation_place' : abbreviation_place})\n",
    "    return new_df"
   ]
  },
  {
   "cell_type": "code",
   "execution_count": 62,
   "id": "13051617",
   "metadata": {},
   "outputs": [],
   "source": [
    "list_of_words = pd.read_excel(\"../dataset/ready_data/merges_data.xlsx\")\n",
    "pairs = find_abbreviation(list_of_words)\n",
    "pairs.to_csv(\"../dataset/ready_data/potential_pairs.csv\")"
   ]
  },
  {
   "cell_type": "code",
   "execution_count": 63,
   "id": "0519168c",
   "metadata": {},
   "outputs": [],
   "source": [
    "list_of_words = pd.read_excel(\"../dataset/ready_data/6_without_stopwords.xlsx\")\n",
    "pairs = find_abbreviation(list_of_words)\n",
    "pairs.to_csv(\"../dataset/ready_data/6_potential_pairs.csv\")"
   ]
  },
  {
   "cell_type": "code",
   "execution_count": null,
   "id": "9b747b27",
   "metadata": {},
   "outputs": [],
   "source": []
  }
 ],
 "metadata": {
  "kernelspec": {
   "display_name": "Python 3",
   "language": "python",
   "name": "python3"
  },
  "language_info": {
   "codemirror_mode": {
    "name": "ipython",
    "version": 3
   },
   "file_extension": ".py",
   "mimetype": "text/x-python",
   "name": "python",
   "nbconvert_exporter": "python",
   "pygments_lexer": "ipython3",
   "version": "3.6.13"
  }
 },
 "nbformat": 4,
 "nbformat_minor": 5
}
