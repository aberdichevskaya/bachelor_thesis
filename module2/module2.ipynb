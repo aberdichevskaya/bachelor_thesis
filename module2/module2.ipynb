{
 "cells": [
  {
   "cell_type": "code",
   "execution_count": 29,
   "id": "694eb2e4",
   "metadata": {},
   "outputs": [],
   "source": [
    "import numpy as np\n",
    "import pandas as pd\n",
    "import matplotlib.pyplot as plt\n",
    "import seaborn as sns\n",
    "import sklearn\n",
    "from sklearn.model_selection import train_test_split\n",
    "from sklearn.metrics import classification_report, confusion_matrix, roc_auc_score\n",
    "from sklearn.preprocessing import LabelEncoder\n",
    "from sklearn.ensemble import RandomForestClassifier\n",
    "from sklearn.model_selection import GridSearchCV\n",
    "from sklearn.svm import SVC\n",
    "import catboost\n",
    "from sklearn.ensemble import GradientBoostingClassifier\n",
    "import xgboost as xgb\n",
    "from sklearn.tree import DecisionTreeClassifier"
   ]
  },
  {
   "cell_type": "code",
   "execution_count": 37,
   "id": "38547ea0",
   "metadata": {},
   "outputs": [],
   "source": [
    "def read_and_drop(filename):\n",
    "    df = pd.read_csv(filename)\n",
    "    df = df.drop('Unnamed: 0', axis=1)\n",
    "    df = df.drop('Unnamed: 0.1', axis=1)\n",
    "    df = df.drop('abbreviation', axis=1)\n",
    "    df = df.drop('definition', axis=1)\n",
    "    df = df.drop('begin', axis=1)\n",
    "    df = df.drop('end', axis=1)\n",
    "    df = df.drop('abbreviation_place', axis=1)\n",
    "    df['almost_synonyms'].fillna(int(df['almost_synonyms'].min()), inplace=True)\n",
    "    df.head()\n",
    "    return df"
   ]
  },
  {
   "cell_type": "code",
   "execution_count": 47,
   "id": "60815f76",
   "metadata": {},
   "outputs": [],
   "source": [
    "def print_output(model, y_train, y_train_hat, y_test, y_test_hat):\n",
    "    print(model)\n",
    "    print('Train performance')\n",
    "    print('-------------------------------------------------------')\n",
    "    print(classification_report(y_train, y_train_hat))\n",
    "    print('Test performance')\n",
    "    print('-------------------------------------------------------')\n",
    "    print(classification_report(y_test, y_test_hat))\n",
    "    print('Roc_auc score')\n",
    "    print('-------------------------------------------------------')\n",
    "    print(roc_auc_score(y_test, y_test_hat))\n",
    "    print('')\n",
    "    print('Confusion matrix')\n",
    "    print('-------------------------------------------------------')\n",
    "    print(confusion_matrix(y_test, y_test_hat))"
   ]
  },
  {
   "cell_type": "code",
   "execution_count": 39,
   "id": "b9bb2c53",
   "metadata": {},
   "outputs": [],
   "source": [
    "df = read_and_drop(\"../dataset/ready_data/potential_pairs_with_features.csv\")\n",
    "df_test = read_and_drop(\"../dataset/ready_data/6_potential_pairs_with_features.csv\")"
   ]
  },
  {
   "cell_type": "code",
   "execution_count": 40,
   "id": "8d5c8c03",
   "metadata": {},
   "outputs": [
    {
     "data": {
      "text/html": [
       "<div>\n",
       "<style scoped>\n",
       "    .dataframe tbody tr th:only-of-type {\n",
       "        vertical-align: middle;\n",
       "    }\n",
       "\n",
       "    .dataframe tbody tr th {\n",
       "        vertical-align: top;\n",
       "    }\n",
       "\n",
       "    .dataframe thead th {\n",
       "        text-align: right;\n",
       "    }\n",
       "</style>\n",
       "<table border=\"1\" class=\"dataframe\">\n",
       "  <thead>\n",
       "    <tr style=\"text-align: right;\">\n",
       "      <th></th>\n",
       "      <th>distance</th>\n",
       "      <th>is_it_correct</th>\n",
       "      <th>first_letters</th>\n",
       "      <th>parenthesis</th>\n",
       "      <th>almost_synonyms</th>\n",
       "      <th>lcs_feature</th>\n",
       "    </tr>\n",
       "  </thead>\n",
       "  <tbody>\n",
       "    <tr>\n",
       "      <th>0</th>\n",
       "      <td>14</td>\n",
       "      <td>0</td>\n",
       "      <td>1.5</td>\n",
       "      <td>0</td>\n",
       "      <td>0.438290</td>\n",
       "      <td>1.0</td>\n",
       "    </tr>\n",
       "    <tr>\n",
       "      <th>1</th>\n",
       "      <td>13</td>\n",
       "      <td>0</td>\n",
       "      <td>1.5</td>\n",
       "      <td>0</td>\n",
       "      <td>0.394688</td>\n",
       "      <td>1.0</td>\n",
       "    </tr>\n",
       "    <tr>\n",
       "      <th>2</th>\n",
       "      <td>14</td>\n",
       "      <td>1</td>\n",
       "      <td>1.0</td>\n",
       "      <td>0</td>\n",
       "      <td>0.437462</td>\n",
       "      <td>1.0</td>\n",
       "    </tr>\n",
       "    <tr>\n",
       "      <th>3</th>\n",
       "      <td>13</td>\n",
       "      <td>0</td>\n",
       "      <td>1.0</td>\n",
       "      <td>0</td>\n",
       "      <td>0.395456</td>\n",
       "      <td>1.0</td>\n",
       "    </tr>\n",
       "    <tr>\n",
       "      <th>4</th>\n",
       "      <td>12</td>\n",
       "      <td>0</td>\n",
       "      <td>1.0</td>\n",
       "      <td>0</td>\n",
       "      <td>0.343793</td>\n",
       "      <td>1.0</td>\n",
       "    </tr>\n",
       "  </tbody>\n",
       "</table>\n",
       "</div>"
      ],
      "text/plain": [
       "   distance  is_it_correct  first_letters  parenthesis  almost_synonyms  \\\n",
       "0        14              0            1.5            0         0.438290   \n",
       "1        13              0            1.5            0         0.394688   \n",
       "2        14              1            1.0            0         0.437462   \n",
       "3        13              0            1.0            0         0.395456   \n",
       "4        12              0            1.0            0         0.343793   \n",
       "\n",
       "   lcs_feature  \n",
       "0          1.0  \n",
       "1          1.0  \n",
       "2          1.0  \n",
       "3          1.0  \n",
       "4          1.0  "
      ]
     },
     "execution_count": 40,
     "metadata": {},
     "output_type": "execute_result"
    }
   ],
   "source": [
    "df.head()"
   ]
  },
  {
   "cell_type": "code",
   "execution_count": 41,
   "id": "5ef638b3",
   "metadata": {},
   "outputs": [],
   "source": [
    "X_train, y_train = df.drop('is_it_correct', axis=1), df['is_it_correct']\n",
    "X_test, y_test = df_test.drop('is_it_correct', axis=1), df_test['is_it_correct']"
   ]
  },
  {
   "cell_type": "code",
   "execution_count": null,
   "id": "8beb5ddb",
   "metadata": {
    "scrolled": true
   },
   "outputs": [],
   "source": []
  },
  {
   "cell_type": "code",
   "execution_count": 48,
   "id": "fbad66d5",
   "metadata": {},
   "outputs": [
    {
     "name": "stdout",
     "output_type": "stream",
     "text": [
      "RandomForestClassifier()\n",
      "Train performance\n",
      "-------------------------------------------------------\n",
      "              precision    recall  f1-score   support\n",
      "\n",
      "           0       1.00      1.00      1.00      6118\n",
      "           1       1.00      0.98      0.99        57\n",
      "\n",
      "    accuracy                           1.00      6175\n",
      "   macro avg       1.00      0.99      1.00      6175\n",
      "weighted avg       1.00      1.00      1.00      6175\n",
      "\n",
      "Test performance\n",
      "-------------------------------------------------------\n",
      "              precision    recall  f1-score   support\n",
      "\n",
      "           0       0.99      1.00      1.00      2476\n",
      "           1       0.25      0.06      0.09        18\n",
      "\n",
      "    accuracy                           0.99      2494\n",
      "   macro avg       0.62      0.53      0.54      2494\n",
      "weighted avg       0.99      0.99      0.99      2494\n",
      "\n",
      "Roc_auc score\n",
      "-------------------------------------------------------\n",
      "0.5271719619457907\n",
      "\n",
      "Confusion matrix\n",
      "-------------------------------------------------------\n",
      "[[2473    3]\n",
      " [  17    1]]\n"
     ]
    }
   ],
   "source": [
    "model = RandomForestClassifier()\n",
    "model.fit(X_train, y_train)\n",
    "y_train_hat = model.predict(X_train)\n",
    "y_test_hat_1 = model.predict(X_test)\n",
    "print_output(model, y_train, y_train_hat, y_test, y_test_hat_1)"
   ]
  },
  {
   "cell_type": "code",
   "execution_count": 50,
   "id": "2a528cde",
   "metadata": {},
   "outputs": [],
   "source": [
    "params = {\n",
    "    'n_estimators': 500,\n",
    "    'depth':5,\n",
    "    'loss_function': 'Logloss',\n",
    "    'verbose': 1000, \n",
    "    'learning_rate':0.011871,\n",
    "    \n",
    "}"
   ]
  },
  {
   "cell_type": "code",
   "execution_count": 51,
   "id": "66820061",
   "metadata": {},
   "outputs": [],
   "source": [
    " model = catboost.CatBoostClassifier(**params)"
   ]
  },
  {
   "cell_type": "code",
   "execution_count": 53,
   "id": "7c8323b4",
   "metadata": {},
   "outputs": [
    {
     "name": "stdout",
     "output_type": "stream",
     "text": [
      "0:\tlearn: 0.6571240\ttotal: 3.85ms\tremaining: 1.92s\n",
      "499:\tlearn: 0.0146692\ttotal: 3.7s\tremaining: 0us\n",
      "<catboost.core.CatBoostClassifier object at 0x0000020094146FD0>\n",
      "Train performance\n",
      "-------------------------------------------------------\n",
      "              precision    recall  f1-score   support\n",
      "\n",
      "           0       1.00      1.00      1.00      6118\n",
      "           1       0.87      0.58      0.69        57\n",
      "\n",
      "    accuracy                           1.00      6175\n",
      "   macro avg       0.93      0.79      0.85      6175\n",
      "weighted avg       0.99      1.00      0.99      6175\n",
      "\n",
      "Test performance\n",
      "-------------------------------------------------------\n",
      "              precision    recall  f1-score   support\n",
      "\n",
      "           0       0.99      1.00      1.00      2476\n",
      "           1       0.67      0.22      0.33        18\n",
      "\n",
      "    accuracy                           0.99      2494\n",
      "   macro avg       0.83      0.61      0.67      2494\n",
      "weighted avg       0.99      0.99      0.99      2494\n",
      "\n",
      "Roc_auc score\n",
      "-------------------------------------------------------\n",
      "0.6107072338897864\n",
      "\n",
      "Confusion matrix\n",
      "-------------------------------------------------------\n",
      "[[2474    2]\n",
      " [  14    4]]\n"
     ]
    }
   ],
   "source": [
    "model.fit(\n",
    "    X_train, y_train\n",
    ")\n",
    "y_train_hat = model.predict(X_train)\n",
    "y_test_hat_2 = model.predict(X_test)\n",
    "print_output(model, y_train, y_train_hat, y_test, y_test_hat_2)"
   ]
  },
  {
   "cell_type": "code",
   "execution_count": 54,
   "id": "7a1b437b",
   "metadata": {},
   "outputs": [
    {
     "name": "stdout",
     "output_type": "stream",
     "text": [
      "ensemble\n",
      "Train performance\n",
      "-------------------------------------------------------\n",
      "              precision    recall  f1-score   support\n",
      "\n",
      "           0       1.00      1.00      1.00      6118\n",
      "           1       0.87      0.58      0.69        57\n",
      "\n",
      "    accuracy                           1.00      6175\n",
      "   macro avg       0.93      0.79      0.85      6175\n",
      "weighted avg       0.99      1.00      0.99      6175\n",
      "\n",
      "Test performance\n",
      "-------------------------------------------------------\n",
      "              precision    recall  f1-score   support\n",
      "\n",
      "           0       0.99      1.00      1.00      2476\n",
      "           1       0.57      0.22      0.32        18\n",
      "\n",
      "    accuracy                           0.99      2494\n",
      "   macro avg       0.78      0.61      0.66      2494\n",
      "weighted avg       0.99      0.99      0.99      2494\n",
      "\n",
      "Roc_auc score\n",
      "-------------------------------------------------------\n",
      "0.610505295279124\n",
      "\n",
      "Confusion matrix\n",
      "-------------------------------------------------------\n",
      "[[2473    3]\n",
      " [  14    4]]\n"
     ]
    }
   ],
   "source": [
    "y_test_hat_sum = [int(vi or wi) for vi, wi in zip(y_test_hat_1, y_test_hat_2)]\n",
    "print_output(\"ensemble\", y_train, y_train_hat, y_test, y_test_hat_sum)"
   ]
  },
  {
   "cell_type": "code",
   "execution_count": null,
   "id": "b4734f8d",
   "metadata": {},
   "outputs": [],
   "source": []
  }
 ],
 "metadata": {
  "kernelspec": {
   "display_name": "Python 3",
   "language": "python",
   "name": "python3"
  },
  "language_info": {
   "codemirror_mode": {
    "name": "ipython",
    "version": 3
   },
   "file_extension": ".py",
   "mimetype": "text/x-python",
   "name": "python",
   "nbconvert_exporter": "python",
   "pygments_lexer": "ipython3",
   "version": "3.6.13"
  }
 },
 "nbformat": 4,
 "nbformat_minor": 5
}
