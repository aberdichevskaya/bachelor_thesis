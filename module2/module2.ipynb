{
 "cells": [
  {
   "cell_type": "code",
   "execution_count": 71,
   "id": "694eb2e4",
   "metadata": {},
   "outputs": [],
   "source": [
    "import numpy as np\n",
    "import pandas as pd\n",
    "import matplotlib.pyplot as plt\n",
    "import seaborn as sns\n",
    "import sklearn\n",
    "from sklearn.model_selection import train_test_split\n",
    "from sklearn.metrics import classification_report, confusion_matrix, roc_auc_score\n",
    "from sklearn.preprocessing import LabelEncoder\n",
    "from sklearn.ensemble import RandomForestClassifier\n",
    "from sklearn.model_selection import GridSearchCV\n",
    "from sklearn.svm import SVC\n",
    "import catboost\n",
    "from sklearn.ensemble import GradientBoostingClassifier\n",
    "import xgboost as xgb\n",
    "from sklearn.tree import DecisionTreeClassifier\n",
    "from imblearn.over_sampling import SMOTE, ADASYN, BorderlineSMOTE  "
   ]
  },
  {
   "cell_type": "code",
   "execution_count": 2,
   "id": "38547ea0",
   "metadata": {},
   "outputs": [],
   "source": [
    "def read_and_drop(filename):\n",
    "    df = pd.read_csv(filename)\n",
    "    df = df.drop('Unnamed: 0', axis=1)\n",
    "    df = df.drop('Unnamed: 0.1', axis=1)\n",
    "    df = df.drop('abbreviation', axis=1)\n",
    "    df = df.drop('definition', axis=1)\n",
    "    df = df.drop('begin', axis=1)\n",
    "    df = df.drop('end', axis=1)\n",
    "    df = df.drop('abbreviation_place', axis=1)\n",
    "    df['almost_synonyms'].fillna(int(df['almost_synonyms'].min()), inplace=True)\n",
    "    df.head()\n",
    "    return df"
   ]
  },
  {
   "cell_type": "code",
   "execution_count": 3,
   "id": "60815f76",
   "metadata": {},
   "outputs": [],
   "source": [
    "def print_output(model, y_train, y_train_hat, y_test, y_test_hat):\n",
    "    print(model)\n",
    "    print('Train performance')\n",
    "    print('-------------------------------------------------------')\n",
    "    print(classification_report(y_train, y_train_hat))\n",
    "    print('Test performance')\n",
    "    print('-------------------------------------------------------')\n",
    "    print(classification_report(y_test, y_test_hat))\n",
    "    print('Roc_auc score')\n",
    "    print('-------------------------------------------------------')\n",
    "    print(roc_auc_score(y_test, y_test_hat))\n",
    "    print('')\n",
    "    print('Confusion matrix')\n",
    "    print('-------------------------------------------------------')\n",
    "    print(confusion_matrix(y_test, y_test_hat))"
   ]
  },
  {
   "cell_type": "code",
   "execution_count": 4,
   "id": "b9bb2c53",
   "metadata": {},
   "outputs": [],
   "source": [
    "df = read_and_drop(\"../dataset/ready_data/potential_pairs_with_features.csv\")\n",
    "df_test = read_and_drop(\"../dataset/ready_data/6_potential_pairs_with_features.csv\")"
   ]
  },
  {
   "cell_type": "code",
   "execution_count": 5,
   "id": "8d5c8c03",
   "metadata": {},
   "outputs": [
    {
     "data": {
      "text/html": [
       "<div>\n",
       "<style scoped>\n",
       "    .dataframe tbody tr th:only-of-type {\n",
       "        vertical-align: middle;\n",
       "    }\n",
       "\n",
       "    .dataframe tbody tr th {\n",
       "        vertical-align: top;\n",
       "    }\n",
       "\n",
       "    .dataframe thead th {\n",
       "        text-align: right;\n",
       "    }\n",
       "</style>\n",
       "<table border=\"1\" class=\"dataframe\">\n",
       "  <thead>\n",
       "    <tr style=\"text-align: right;\">\n",
       "      <th></th>\n",
       "      <th>distance</th>\n",
       "      <th>is_it_correct</th>\n",
       "      <th>first_letters</th>\n",
       "      <th>parenthesis</th>\n",
       "      <th>almost_synonyms</th>\n",
       "      <th>lcs_feature</th>\n",
       "    </tr>\n",
       "  </thead>\n",
       "  <tbody>\n",
       "    <tr>\n",
       "      <th>0</th>\n",
       "      <td>14</td>\n",
       "      <td>0</td>\n",
       "      <td>1.5</td>\n",
       "      <td>0</td>\n",
       "      <td>0.438290</td>\n",
       "      <td>1.0</td>\n",
       "    </tr>\n",
       "    <tr>\n",
       "      <th>1</th>\n",
       "      <td>13</td>\n",
       "      <td>0</td>\n",
       "      <td>1.5</td>\n",
       "      <td>0</td>\n",
       "      <td>0.394688</td>\n",
       "      <td>1.0</td>\n",
       "    </tr>\n",
       "    <tr>\n",
       "      <th>2</th>\n",
       "      <td>14</td>\n",
       "      <td>1</td>\n",
       "      <td>1.0</td>\n",
       "      <td>0</td>\n",
       "      <td>0.437462</td>\n",
       "      <td>1.0</td>\n",
       "    </tr>\n",
       "    <tr>\n",
       "      <th>3</th>\n",
       "      <td>13</td>\n",
       "      <td>0</td>\n",
       "      <td>1.0</td>\n",
       "      <td>0</td>\n",
       "      <td>0.395456</td>\n",
       "      <td>1.0</td>\n",
       "    </tr>\n",
       "    <tr>\n",
       "      <th>4</th>\n",
       "      <td>12</td>\n",
       "      <td>0</td>\n",
       "      <td>1.0</td>\n",
       "      <td>0</td>\n",
       "      <td>0.343793</td>\n",
       "      <td>1.0</td>\n",
       "    </tr>\n",
       "  </tbody>\n",
       "</table>\n",
       "</div>"
      ],
      "text/plain": [
       "   distance  is_it_correct  first_letters  parenthesis  almost_synonyms  \\\n",
       "0        14              0            1.5            0         0.438290   \n",
       "1        13              0            1.5            0         0.394688   \n",
       "2        14              1            1.0            0         0.437462   \n",
       "3        13              0            1.0            0         0.395456   \n",
       "4        12              0            1.0            0         0.343793   \n",
       "\n",
       "   lcs_feature  \n",
       "0          1.0  \n",
       "1          1.0  \n",
       "2          1.0  \n",
       "3          1.0  \n",
       "4          1.0  "
      ]
     },
     "execution_count": 5,
     "metadata": {},
     "output_type": "execute_result"
    }
   ],
   "source": [
    "df.head()"
   ]
  },
  {
   "cell_type": "code",
   "execution_count": 64,
   "id": "5ef638b3",
   "metadata": {},
   "outputs": [],
   "source": [
    "X, y = df.drop('is_it_correct', axis=1), df['is_it_correct']"
   ]
  },
  {
   "cell_type": "code",
   "execution_count": 65,
   "id": "d6e66e50",
   "metadata": {},
   "outputs": [],
   "source": [
    "smote = SMOTE(sampling_strategy='minority', random_state=50, k_neighbors=5)\n",
    "X_train, y_train = smote.fit_resample(X, y)"
   ]
  },
  {
   "cell_type": "code",
   "execution_count": 38,
   "id": "24ce0122",
   "metadata": {},
   "outputs": [],
   "source": []
  },
  {
   "cell_type": "code",
   "execution_count": 26,
   "id": "8beb5ddb",
   "metadata": {
    "scrolled": true
   },
   "outputs": [],
   "source": [
    "X_test, y_test = df_test.drop('is_it_correct', axis=1), df_test['is_it_correct']"
   ]
  },
  {
   "cell_type": "code",
   "execution_count": 66,
   "id": "fbad66d5",
   "metadata": {},
   "outputs": [
    {
     "name": "stdout",
     "output_type": "stream",
     "text": [
      "RandomForestClassifier()\n",
      "Train performance\n",
      "-------------------------------------------------------\n",
      "              precision    recall  f1-score   support\n",
      "\n",
      "           0       1.00      1.00      1.00      6118\n",
      "           1       1.00      1.00      1.00      6118\n",
      "\n",
      "    accuracy                           1.00     12236\n",
      "   macro avg       1.00      1.00      1.00     12236\n",
      "weighted avg       1.00      1.00      1.00     12236\n",
      "\n",
      "Test performance\n",
      "-------------------------------------------------------\n",
      "              precision    recall  f1-score   support\n",
      "\n",
      "           0       1.00      0.99      0.99      1459\n",
      "           1       0.32      0.46      0.37        13\n",
      "\n",
      "    accuracy                           0.99      1472\n",
      "   macro avg       0.66      0.73      0.68      1472\n",
      "weighted avg       0.99      0.99      0.99      1472\n",
      "\n",
      "Roc_auc score\n",
      "-------------------------------------------------------\n",
      "0.7263141245320821\n",
      "\n",
      "Confusion matrix\n",
      "-------------------------------------------------------\n",
      "[[1446   13]\n",
      " [   7    6]]\n"
     ]
    }
   ],
   "source": [
    "model = RandomForestClassifier()\n",
    "model.fit(X_train, y_train)\n",
    "y_train_hat = model.predict(X_train)\n",
    "y_test_hat_1 = model.predict(X_test)\n",
    "print_output(model, y_train, y_train_hat, y_test, y_test_hat_1)"
   ]
  },
  {
   "cell_type": "code",
   "execution_count": 67,
   "id": "2a528cde",
   "metadata": {},
   "outputs": [],
   "source": [
    "params = {\n",
    "    'n_estimators': 500,\n",
    "    'depth':5,\n",
    "    'loss_function': 'Logloss',\n",
    "    'verbose': 1000, \n",
    "    'learning_rate':0.011871,\n",
    "    \n",
    "}"
   ]
  },
  {
   "cell_type": "code",
   "execution_count": 68,
   "id": "66820061",
   "metadata": {},
   "outputs": [],
   "source": [
    " model = catboost.CatBoostClassifier(**params)"
   ]
  },
  {
   "cell_type": "code",
   "execution_count": 69,
   "id": "7c8323b4",
   "metadata": {},
   "outputs": [
    {
     "name": "stdout",
     "output_type": "stream",
     "text": [
      "0:\tlearn: 0.6709525\ttotal: 7.79ms\tremaining: 3.89s\n",
      "499:\tlearn: 0.0642719\ttotal: 4.12s\tremaining: 0us\n",
      "<catboost.core.CatBoostClassifier object at 0x000001B1DF8F4EB8>\n",
      "Train performance\n",
      "-------------------------------------------------------\n",
      "              precision    recall  f1-score   support\n",
      "\n",
      "           0       1.00      0.97      0.98      6118\n",
      "           1       0.97      1.00      0.98      6118\n",
      "\n",
      "    accuracy                           0.98     12236\n",
      "   macro avg       0.98      0.98      0.98     12236\n",
      "weighted avg       0.98      0.98      0.98     12236\n",
      "\n",
      "Test performance\n",
      "-------------------------------------------------------\n",
      "              precision    recall  f1-score   support\n",
      "\n",
      "           0       1.00      0.98      0.99      1459\n",
      "           1       0.19      0.46      0.27        13\n",
      "\n",
      "    accuracy                           0.98      1472\n",
      "   macro avg       0.59      0.72      0.63      1472\n",
      "weighted avg       0.99      0.98      0.98      1472\n",
      "\n",
      "Roc_auc score\n",
      "-------------------------------------------------------\n",
      "0.7222017187747141\n",
      "\n",
      "Confusion matrix\n",
      "-------------------------------------------------------\n",
      "[[1434   25]\n",
      " [   7    6]]\n"
     ]
    }
   ],
   "source": [
    "model.fit(\n",
    "    X_train, y_train\n",
    ")\n",
    "y_train_hat = model.predict(X_train)\n",
    "y_test_hat_2 = model.predict(X_test)\n",
    "print_output(model, y_train, y_train_hat, y_test, y_test_hat_2)"
   ]
  },
  {
   "cell_type": "code",
   "execution_count": 70,
   "id": "7a1b437b",
   "metadata": {},
   "outputs": [
    {
     "name": "stdout",
     "output_type": "stream",
     "text": [
      "ensemble\n",
      "Train performance\n",
      "-------------------------------------------------------\n",
      "              precision    recall  f1-score   support\n",
      "\n",
      "           0       1.00      0.97      0.98      6118\n",
      "           1       0.97      1.00      0.98      6118\n",
      "\n",
      "    accuracy                           0.98     12236\n",
      "   macro avg       0.98      0.98      0.98     12236\n",
      "weighted avg       0.98      0.98      0.98     12236\n",
      "\n",
      "Test performance\n",
      "-------------------------------------------------------\n",
      "              precision    recall  f1-score   support\n",
      "\n",
      "           0       1.00      0.98      0.99      1459\n",
      "           1       0.19      0.46      0.27        13\n",
      "\n",
      "    accuracy                           0.98      1472\n",
      "   macro avg       0.59      0.72      0.63      1472\n",
      "weighted avg       0.99      0.98      0.98      1472\n",
      "\n",
      "Roc_auc score\n",
      "-------------------------------------------------------\n",
      "0.7218590182949334\n",
      "\n",
      "Confusion matrix\n",
      "-------------------------------------------------------\n",
      "[[1433   26]\n",
      " [   7    6]]\n"
     ]
    }
   ],
   "source": [
    "y_test_hat_sum = [int(vi or wi) for vi, wi in zip(y_test_hat_1, y_test_hat_2)]\n",
    "print_output(\"ensemble\", y_train, y_train_hat, y_test, y_test_hat_sum)"
   ]
  },
  {
   "cell_type": "code",
   "execution_count": null,
   "id": "b4734f8d",
   "metadata": {},
   "outputs": [],
   "source": []
  }
 ],
 "metadata": {
  "kernelspec": {
   "display_name": "Python 3",
   "language": "python",
   "name": "python3"
  },
  "language_info": {
   "codemirror_mode": {
    "name": "ipython",
    "version": 3
   },
   "file_extension": ".py",
   "mimetype": "text/x-python",
   "name": "python",
   "nbconvert_exporter": "python",
   "pygments_lexer": "ipython3",
   "version": "3.6.13"
  }
 },
 "nbformat": 4,
 "nbformat_minor": 5
}
