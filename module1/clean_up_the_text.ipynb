{
 "cells": [
  {
   "cell_type": "code",
   "execution_count": 3,
   "metadata": {},
   "outputs": [],
   "source": [
    "import nltk\n",
    "import pandas as pd\n",
    "import pymorphy2\n",
    "import os\n",
    "from nltk.corpus import stopwords"
   ]
  },
  {
   "cell_type": "code",
   "execution_count": 6,
   "metadata": {},
   "outputs": [],
   "source": [
    "def clean_up(df):\n",
    "    words = []\n",
    "    is_abbreviation = []\n",
    "    initial_words = df['token']\n",
    "    initial_abbreviation = df['is_abbreviation']\n",
    "    for i in range(len(initial_words)):\n",
    "        if not initial_words[i] in stopwords.words(\"russian\"):\n",
    "            #morph = pymorphy2.MorphAnalyzer()\n",
    "            #p = morph.parse(initial_words[i])[0]\n",
    "            #norm = p.normal_form\n",
    "            words.append(initial_words[i])\n",
    "            is_abbreviation.append(initial_abbreviation[i])\n",
    "    new_df = pd.DataFrame({'token':words, 'is_abbreviation':is_abbreviation})\n",
    "    return new_df"
   ]
  },
  {
   "cell_type": "code",
   "execution_count": 2,
   "metadata": {},
   "outputs": [],
   "source": [
    "def clean_up_the_text(filename):\n",
    "    path = \"../dataset/ready_data/\"\n",
    "    df = pd.read_excel(path + \"1.xlsx\")\n",
    "    new_df = clean_up(df)\n",
    "    new_df.head()\n",
    "    new_filename = os.path.basename(filename)[0]+\"_without_stopwords.xlsx\"\n",
    "    new_df.to_excel\n",
    "    new_df.to_excel(path+new_filename)"
   ]
  },
  {
   "cell_type": "code",
   "execution_count": 7,
   "metadata": {},
   "outputs": [],
   "source": [
    "clean_up_the_text(\"1.xlsx\")\n",
    "clean_up_the_text(\"2.xlsx\")\n",
    "clean_up_the_text(\"3.xlsx\")\n",
    "clean_up_the_text(\"4.xlsx\")\n",
    "clean_up_the_text(\"5.xlsx\")\n",
    "clean_up_the_text(\"6.xlsx\")"
   ]
  },
  {
   "cell_type": "code",
   "execution_count": 31,
   "metadata": {},
   "outputs": [],
   "source": [
    "blyat = pd.read_csv(\"../dataset/ready_data/potential_pairs_with_features.csv\")\n",
    "blyat = blyat.drop('Unnamed: 0', axis=1)\n",
    "blyat = blyat.drop('Unnamed: 0.1', axis=1)\n",
    "blyat = blyat.drop('distance', axis=1)\n",
    "blyat = blyat.drop('begin', axis=1)\n",
    "blyat = blyat.drop('end', axis=1)\n",
    "blyat = blyat.drop('abbreviation_place', axis=1)\n",
    "blyat = blyat.drop('first_letters', axis=1)\n",
    "blyat = blyat.drop('parenthesis', axis=1)\n",
    "blyat = blyat.drop('almost_synonyms', axis=1)\n",
    "blyat = blyat.drop('lcs_feature', axis=1)"
   ]
  },
  {
   "cell_type": "code",
   "execution_count": 35,
   "metadata": {},
   "outputs": [
    {
     "data": {
      "text/html": [
       "<div>\n",
       "<style scoped>\n",
       "    .dataframe tbody tr th:only-of-type {\n",
       "        vertical-align: middle;\n",
       "    }\n",
       "\n",
       "    .dataframe tbody tr th {\n",
       "        vertical-align: top;\n",
       "    }\n",
       "\n",
       "    .dataframe thead th {\n",
       "        text-align: right;\n",
       "    }\n",
       "</style>\n",
       "<table border=\"1\" class=\"dataframe\">\n",
       "  <thead>\n",
       "    <tr style=\"text-align: right;\">\n",
       "      <th></th>\n",
       "      <th>abbreviation</th>\n",
       "      <th>definition</th>\n",
       "      <th>is_it_correct</th>\n",
       "    </tr>\n",
       "  </thead>\n",
       "  <tbody>\n",
       "    <tr>\n",
       "      <th>0</th>\n",
       "      <td>РФ</td>\n",
       "      <td>регуляции репродуктивной функции</td>\n",
       "      <td>0</td>\n",
       "    </tr>\n",
       "    <tr>\n",
       "      <th>1</th>\n",
       "      <td>РФ</td>\n",
       "      <td>регуляции репродуктивной функции .</td>\n",
       "      <td>0</td>\n",
       "    </tr>\n",
       "    <tr>\n",
       "      <th>2</th>\n",
       "      <td>РФ</td>\n",
       "      <td>репродуктивной функции</td>\n",
       "      <td>1</td>\n",
       "    </tr>\n",
       "    <tr>\n",
       "      <th>3</th>\n",
       "      <td>РФ</td>\n",
       "      <td>репродуктивной функции .</td>\n",
       "      <td>0</td>\n",
       "    </tr>\n",
       "    <tr>\n",
       "      <th>4</th>\n",
       "      <td>РФ</td>\n",
       "      <td>репродуктивной функции . Целью</td>\n",
       "      <td>0</td>\n",
       "    </tr>\n",
       "  </tbody>\n",
       "</table>\n",
       "</div>"
      ],
      "text/plain": [
       "  abbreviation                          definition  is_it_correct\n",
       "0           РФ    регуляции репродуктивной функции              0\n",
       "1           РФ  регуляции репродуктивной функции .              0\n",
       "2           РФ              репродуктивной функции              1\n",
       "3           РФ            репродуктивной функции .              0\n",
       "4           РФ      репродуктивной функции . Целью              0"
      ]
     },
     "execution_count": 35,
     "metadata": {},
     "output_type": "execute_result"
    }
   ],
   "source": [
    "blyat.head()"
   ]
  },
  {
   "cell_type": "code",
   "execution_count": null,
   "metadata": {},
   "outputs": [],
   "source": []
  }
 ],
 "metadata": {
  "kernelspec": {
   "display_name": "Python 3",
   "language": "python",
   "name": "python3"
  },
  "language_info": {
   "codemirror_mode": {
    "name": "ipython",
    "version": 3
   },
   "file_extension": ".py",
   "mimetype": "text/x-python",
   "name": "python",
   "nbconvert_exporter": "python",
   "pygments_lexer": "ipython3",
   "version": "3.6.13"
  }
 },
 "nbformat": 4,
 "nbformat_minor": 4
}
