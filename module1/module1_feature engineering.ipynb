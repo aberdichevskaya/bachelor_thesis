{
 "cells": [
  {
   "cell_type": "code",
   "execution_count": 2,
   "metadata": {},
   "outputs": [],
   "source": [
    "import pandas as pd\n",
    "import os\n",
    "import re\n",
    "import pymorphy2"
   ]
  },
  {
   "cell_type": "code",
   "execution_count": 49,
   "metadata": {},
   "outputs": [
    {
     "data": {
      "text/plain": [
       "'\\n3)Признаки, полученные из баз знаний, такие как определение того, является ли слово английским словом или медицинским термином.\\n4)Признаки, полученные из базового всеобъемлющего корпуса, такие как частота вхождения слова в различные документы из корпуса.\\n5)Признаки, полученные из контекста слова, такие как характеристики предыдущего и следующего слова, включая то, является ли предыдущее / следующее слово: началом предложения, цифрой или числом, английским словом или медицинским термином, пунктуацией, или конец предложения.\\n\\n\\nна завтра: доизвлечь признаки, прикрутить grid_search, доразметить данные и пообучать на большем количестве, попробовать дропнуть лишние токены\\n\\n'"
      ]
     },
     "execution_count": 49,
     "metadata": {},
     "output_type": "execute_result"
    }
   ],
   "source": [
    "\"\"\"\"\"\"\"\"\"\n",
    "4)Признаки, полученные из базового всеобъемлющего корпуса, такие как частота вхождения слова в различные документы из корпуса.\n",
    "5)Признаки, полученные из контекста слова, такие как характеристики предыдущего и следующего слова, включая то, является ли предыдущее / следующее слово: началом предложения, цифрой или числом, английским словом или медицинским термином, пунктуацией, или конец предложения.\n",
    "\n",
    "\n",
    "на завтра: доизвлечь признаки, прикрутить grid_search, доразметить данные и пообучать на большем количестве, попробовать дропнуть лишние токены\n",
    "\n",
    "\"\"\"\"\"\"\"\"\""
   ]
  },
  {
   "cell_type": "code",
   "execution_count": 3,
   "metadata": {},
   "outputs": [],
   "source": [
    "#номинальный категоральный атрибут\n",
    "def special_symbols(df):\n",
    "    feature = []\n",
    "    for token in df[\"token\"]:\n",
    "        ar = re.findall('\\W+', token)\n",
    "        val = 1 if len(ar)>0 else 0\n",
    "        feature.append(val)\n",
    "    return feature"
   ]
  },
  {
   "cell_type": "code",
   "execution_count": 4,
   "metadata": {},
   "outputs": [],
   "source": [
    "#номинальный категоральный атрибут\n",
    "def letters_numbers_combination(df):\n",
    "    #0 - ни букв, ни цифр\n",
    "    #1 - только буквы\n",
    "    #2 - только цифры\n",
    "    #3 - комбинация\n",
    "    feature = []\n",
    "    for token in df[\"token\"]:\n",
    "        letters = re.findall('[а-яА-ЯёЁa-zA-Z]', token)\n",
    "        numbers = re.findall('\\d+', token)\n",
    "        val = 0\n",
    "        if len(letters)==0 and len(numbers)==0:\n",
    "            val = 0\n",
    "        elif len(numbers)==0:\n",
    "            val = 1\n",
    "        elif len(letters)==0:\n",
    "            val = 2\n",
    "        else:\n",
    "            val = 3\n",
    "        feature.append(val)\n",
    "    return feature"
   ]
  },
  {
   "cell_type": "code",
   "execution_count": 6,
   "metadata": {},
   "outputs": [],
   "source": [
    "#порядковый категориальный атрибут\n",
    "def get_token_length(df):\n",
    "    feature = []\n",
    "    for token in df['token']:\n",
    "        feature.append(len(token))\n",
    "    return feature"
   ]
  },
  {
   "cell_type": "code",
   "execution_count": 7,
   "metadata": {},
   "outputs": [],
   "source": [
    "#неприрывный числовой атрибут\n",
    "def upper_letters_rate(df):\n",
    "    #отношение количества заглавных букв к длине слова\n",
    "    upper_russian = 'аоиеёэыуюябвгджзйклмнпрстфхцчшщьъ'.upper()\n",
    "    upper_english = 'aeioubcdfghjklmnpqrstvwxyz'.upper()\n",
    "    feature = []\n",
    "    for token in df['token']:\n",
    "        uppers = re.findall('[{0}{1}]'.format(upper_russian, upper_english), token)\n",
    "        val = 0 if len(uppers)==0 else len(uppers)/len(token)\n",
    "        feature.append(val)\n",
    "    return feature"
   ]
  },
  {
   "cell_type": "code",
   "execution_count": 8,
   "metadata": {},
   "outputs": [],
   "source": [
    "#номинальный категоральный атрибут\n",
    "def upper_letters_inside(df):\n",
    "    #0 - нет заглавных букв внутри слова\n",
    "    #1 - есть заглавные буквы внутри слова\n",
    "    upper_russian = 'аоиеёэыуюябвгджзйклмнпрстфхцчшщьъ'.upper()\n",
    "    upper_english = 'aeioubcdfghjklmnpqrstvwxyz'.upper()\n",
    "    feature = []\n",
    "    for token in df['token']:\n",
    "        #if len(token)==1 and token[0] in upper_russian+upper_english:\n",
    "         #   feature.append(1)\n",
    "        for i in range(1, len(token)):\n",
    "            if token[i].isupper():\n",
    "                feature.append(1)\n",
    "                break\n",
    "        else:\n",
    "            feature.append(0)\n",
    "    return feature"
   ]
  },
  {
   "cell_type": "code",
   "execution_count": 9,
   "metadata": {},
   "outputs": [],
   "source": [
    "def create_array_from_file(file):\n",
    "    array = []\n",
    "    for l in file:\n",
    "        k = re.split('\\s+', l)\n",
    "        array.append(k[0])\n",
    "    return array"
   ]
  },
  {
   "cell_type": "code",
   "execution_count": 10,
   "metadata": {},
   "outputs": [],
   "source": [
    "#номинальный категоральный атрибут\n",
    "def is_in_dictionary(df):\n",
    "    rus_dict = open(\"../dictionaries/dictionary.txt\", 'r', encoding='utf-8')\n",
    "    rus_dict_array = create_array_from_file(rus_dict)\n",
    "    feature = []\n",
    "    morph = pymorphy2.MorphAnalyzer()\n",
    "    for token in df['token']:\n",
    "        p = morph.parse(token)[0]\n",
    "        norm = p.normal_form\n",
    "        is_word = 0\n",
    "        l = 0\n",
    "        r = len(rus_dict_array)\n",
    "        while(l < r-1):\n",
    "            m = (l+r)//2\n",
    "            if rus_dict_array[m] <= norm:\n",
    "                l = m\n",
    "            else:\n",
    "                r = m\n",
    "        is_word = rus_dict_array[l]==norm\n",
    "        feature.append(int(is_word))\n",
    "    return feature"
   ]
  },
  {
   "cell_type": "code",
   "execution_count": 44,
   "metadata": {},
   "outputs": [],
   "source": [
    "df = pd.read_excel(\"../dataset/ready_data/1.xlsx\")"
   ]
  },
  {
   "cell_type": "code",
   "execution_count": 45,
   "metadata": {},
   "outputs": [
    {
     "data": {
      "text/html": [
       "<div>\n",
       "<style scoped>\n",
       "    .dataframe tbody tr th:only-of-type {\n",
       "        vertical-align: middle;\n",
       "    }\n",
       "\n",
       "    .dataframe tbody tr th {\n",
       "        vertical-align: top;\n",
       "    }\n",
       "\n",
       "    .dataframe thead th {\n",
       "        text-align: right;\n",
       "    }\n",
       "</style>\n",
       "<table border=\"1\" class=\"dataframe\">\n",
       "  <thead>\n",
       "    <tr style=\"text-align: right;\">\n",
       "      <th></th>\n",
       "      <th>Unnamed: 0</th>\n",
       "      <th>token</th>\n",
       "      <th>is_abbreviation</th>\n",
       "    </tr>\n",
       "  </thead>\n",
       "  <tbody>\n",
       "    <tr>\n",
       "      <th>0</th>\n",
       "      <td>0</td>\n",
       "      <td>Недостаточность</td>\n",
       "      <td>0</td>\n",
       "    </tr>\n",
       "    <tr>\n",
       "      <th>1</th>\n",
       "      <td>1</td>\n",
       "      <td>и</td>\n",
       "      <td>0</td>\n",
       "    </tr>\n",
       "    <tr>\n",
       "      <th>2</th>\n",
       "      <td>2</td>\n",
       "      <td>дефицит</td>\n",
       "      <td>0</td>\n",
       "    </tr>\n",
       "    <tr>\n",
       "      <th>3</th>\n",
       "      <td>3</td>\n",
       "      <td>витамина</td>\n",
       "      <td>0</td>\n",
       "    </tr>\n",
       "    <tr>\n",
       "      <th>4</th>\n",
       "      <td>4</td>\n",
       "      <td>D</td>\n",
       "      <td>0</td>\n",
       "    </tr>\n",
       "  </tbody>\n",
       "</table>\n",
       "</div>"
      ],
      "text/plain": [
       "   Unnamed: 0            token  is_abbreviation\n",
       "0           0  Недостаточность                0\n",
       "1           1                и                0\n",
       "2           2          дефицит                0\n",
       "3           3         витамина                0\n",
       "4           4                D                0"
      ]
     },
     "execution_count": 45,
     "metadata": {},
     "output_type": "execute_result"
    }
   ],
   "source": [
    "df.head()"
   ]
  },
  {
   "cell_type": "code",
   "execution_count": null,
   "metadata": {},
   "outputs": [],
   "source": [
    "def process_dataframe(filename):\n",
    "    path = \"../dataset/ready_data/\"\n",
    "    df = pd.read_excel(path+filename)\n",
    "    df['special_symbols'] = special_symbols(df)\n",
    "    df['letters_numbers_combination'] = letters_numbers_combination(df)\n",
    "    df['vowels_consonants_combination'] = vowels_consonants_combination(df)\n",
    "    df['get_token_length'] = get_token_length(df)\n",
    "    df['upper_letters_rate'] = upper_letters_rate(df)\n",
    "    df['upper_letters_inside'] = upper_letters_inside(df)\n",
    "    df['is_in_dictionary'] = is_in_dictionary(df)\n",
    "    new_filename = os.path.basename(filename)[0]+\"_with_features.csv\"\n",
    "    df.to_csv(path+new_filename)"
   ]
  },
  {
   "cell_type": "code",
   "execution_count": null,
   "metadata": {},
   "outputs": [],
   "source": [
    "process_dataframe(\"merges_data.xlsx\")\n",
    "process_dataframe(\"6_without_stopwords.xlsx\")"
   ]
  },
  {
   "cell_type": "code",
   "execution_count": null,
   "metadata": {},
   "outputs": [],
   "source": []
  }
 ],
 "metadata": {
  "kernelspec": {
   "display_name": "Python 3",
   "language": "python",
   "name": "python3"
  },
  "language_info": {
   "codemirror_mode": {
    "name": "ipython",
    "version": 3
   },
   "file_extension": ".py",
   "mimetype": "text/x-python",
   "name": "python",
   "nbconvert_exporter": "python",
   "pygments_lexer": "ipython3",
   "version": "3.6.13"
  }
 },
 "nbformat": 4,
 "nbformat_minor": 4
}
